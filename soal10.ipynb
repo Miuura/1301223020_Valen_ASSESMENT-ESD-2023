{
  "nbformat": 4,
  "nbformat_minor": 0,
  "metadata": {
    "colab": {
      "provenance": []
    },
    "kernelspec": {
      "name": "python3",
      "display_name": "Python 3"
    },
    "language_info": {
      "name": "python"
    }
  },
  "cells": [
    {
      "cell_type": "code",
      "execution_count": 53,
      "metadata": {
        "colab": {
          "base_uri": "https://localhost:8080/"
        },
        "id": "8_Y6Epv3n65y",
        "outputId": "ade7f0c1-9149-4f2a-de49-d5c8ee2973ae"
      },
      "outputs": [
        {
          "output_type": "stream",
          "name": "stdout",
          "text": [
            "Uang yang Diterima: 178000\n",
            "Total Belanja: 90500\n",
            "\n",
            "Jumlah Kembalian: 87500\n",
            "Pecahan 50000 sebanyak 1\n",
            "Pecahan 20000 sebanyak 1\n",
            "Pecahan 10000 sebanyak 1\n",
            "Pecahan 5000 sebanyak 1\n",
            "Pecahan 2000 sebanyak 1\n",
            "Pecahan 500 sebanyak 1\n"
          ]
        }
      ],
      "source": [
        "list_Pecahan = [100000, 50000, 20000, 10000, 5000, 2000, 1000, 500, 200, 100]\n",
        "\n",
        "TotalBayar = int(input(\"Uang yang Diterima: \"))\n",
        "TotalBelanja = int(input(\"Total Belanja: \"))\n",
        "\n",
        "Kembalian = TotalBayar-TotalBelanja\n",
        "print(f'\\nJumlah Kembalian: {Kembalian}')\n",
        "for pecahan in list_Pecahan:\n",
        "  if Kembalian == 0:\n",
        "    break\n",
        "  elif Kembalian // pecahan != 0:\n",
        "    print(f'Pecahan {pecahan} sebanyak {Kembalian//pecahan}')\n",
        "    Kembalian = Kembalian % pecahan"
      ]
    }
  ]
}