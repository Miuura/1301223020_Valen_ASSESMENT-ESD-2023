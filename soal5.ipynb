{
  "nbformat": 4,
  "nbformat_minor": 0,
  "metadata": {
    "colab": {
      "provenance": []
    },
    "kernelspec": {
      "name": "python3",
      "display_name": "Python 3"
    },
    "language_info": {
      "name": "python"
    }
  },
  "cells": [
    {
      "cell_type": "code",
      "execution_count": 22,
      "metadata": {
        "colab": {
          "base_uri": "https://localhost:8080/"
        },
        "id": "8_Y6Epv3n65y",
        "outputId": "45770536-721d-4c12-d5e2-8554b333fabd"
      },
      "outputs": [
        {
          "output_type": "stream",
          "name": "stdout",
          "text": [
            "Jumlah kombinasi kata dengan huruf dari 'Naip Lovyu' maksimal 6 huruf adalah: 531441\n"
          ]
        }
      ],
      "source": [
        "from itertools import product\n",
        "\n",
        "fullName = \"Naip Lovyu\"\n",
        "\n",
        "userIG = fullName.replace(\" \", \"\")\n",
        "userIG = userIG.lower()\n",
        "\n",
        "panjang_kata = 6\n",
        "\n",
        "kombinasi_kata = [''.join(kombinasi) for kombinasi in product(userIG, repeat=panjang_kata)]\n",
        "\n",
        "print(f\"Jumlah kombinasi kata dengan huruf dari '{fullName}' maksimal {panjang_kata} huruf adalah: {len(kombinasi_kata)}\")"
      ]
    }
  ]
}