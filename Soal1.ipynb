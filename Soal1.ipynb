{
  "nbformat": 4,
  "nbformat_minor": 0,
  "metadata": {
    "colab": {
      "provenance": []
    },
    "kernelspec": {
      "name": "python3",
      "display_name": "Python 3"
    },
    "language_info": {
      "name": "python"
    }
  },
  "cells": [
    {
      "cell_type": "code",
      "execution_count": 7,
      "metadata": {
        "colab": {
          "base_uri": "https://localhost:8080/"
        },
        "id": "8_Y6Epv3n65y",
        "outputId": "9d3c622e-1ce2-461a-cb58-7b2ab05a5085"
      },
      "outputs": [
        {
          "output_type": "stream",
          "name": "stdout",
          "text": [
            "Masukkan Data: 5\n",
            "Masukkan Data: 4\n",
            "Masukkan Data: 2.5\n",
            "Masukkan Data: 5\n",
            "Masukkan Data: 3.6\n",
            "Masukkan Data: 1.1\n",
            "Masukkan Data: 3.6\n",
            "Masukkan Data: 4\n",
            "Masukkan Data: 4.2\n",
            "Masukkan Data: 1.5\n",
            "\n",
            "Rata Rata: 3.45\n",
            "Nilai Min: 1.1\n",
            "Nilai Maksimum: 5.0\n"
          ]
        }
      ],
      "source": [
        "data = []\n",
        "for i in range(10):\n",
        "  temp = float(input(\"Masukkan Data: \"))\n",
        "  data.append(temp)\n",
        "\n",
        "min = data[1]\n",
        "max = data[2]\n",
        "jumlah = 0\n",
        "\n",
        "for i in data:\n",
        "  jumlah = jumlah+i\n",
        "  if min > i:\n",
        "    min = i\n",
        "  if max < i:\n",
        "    max = i\n",
        "\n",
        "print(f'\\nRata Rata: {jumlah/len(data):.2f}')\n",
        "print(f'Nilai Min: {min}')\n",
        "print(f'Nilai Maksimum: {max}')"
      ]
    }
  ]
}