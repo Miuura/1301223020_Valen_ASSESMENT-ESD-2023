{
  "nbformat": 4,
  "nbformat_minor": 0,
  "metadata": {
    "colab": {
      "provenance": []
    },
    "kernelspec": {
      "name": "python3",
      "display_name": "Python 3"
    },
    "language_info": {
      "name": "python"
    }
  },
  "cells": [
    {
      "cell_type": "code",
      "execution_count": 2,
      "metadata": {
        "colab": {
          "base_uri": "https://localhost:8080/"
        },
        "id": "8_Y6Epv3n65y",
        "outputId": "3b358a8c-7292-402f-e9fa-91e2e6c5d344"
      },
      "outputs": [
        {
          "output_type": "stream",
          "name": "stdout",
          "text": [
            "Nama Customer: Rehan\n",
            "Jumlah Pesanan: 3\n",
            "Masukkan Nama Makanan/Minuman: Ayam Bakar\n",
            "Jumlah: 2\n",
            "Masukkan Nama Makanan/Minuman: Es Teh\n",
            "Jumlah: 1\n",
            "Buset bang Rehan lu abis 54222.50\n",
            "\n",
            "Nama Customer: Amba\n",
            "Jumlah Pesanan: 4\n",
            "Masukkan Nama Makanan/Minuman: Ayam Puk Puk\n",
            "Jumlah: 1\n",
            "Masukkan Nama Makanan/Minuman: Es Teh\n",
            "Jumlah: 3\n",
            "Buset bang Amba lu abis 33465.00\n",
            "\n",
            "Nama Customer: Faiz\n",
            "Jumlah Pesanan: 5\n",
            "Masukkan Nama Makanan/Minuman: Ayam Goreng Krispi\n",
            "Jumlah: 1\n",
            "Masukkan Nama Makanan/Minuman: Ayam Puk Puk\n",
            "Jumlah: 1\n",
            "Masukkan Nama Makanan/Minuman: Ayam Bakar\n",
            "Jumlah: 1\n",
            "Masukkan Nama Makanan/Minuman: Es Teh\n",
            "Jumlah: 1\n",
            "Masukkan Nama Makanan/Minuman: Es Jeruk\n",
            "Jumlah: 1\n",
            "Buset bang Faiz lu abis 72174.00\n",
            "\n"
          ]
        }
      ],
      "source": [
        "import pandas as pd\n",
        "\n",
        "dict_Menu = {\n",
        "    'Menu' : ['Ayam Goreng Krispi', 'Ayam Puk Puk', 'Ayam Bakar', 'Es Teh', 'Es Jeruk'],\n",
        "    'Tipe' : ['Makanan', 'Makanan', 'Makanan', 'Minuman', 'Minuman'],\n",
        "    'Harga' : [15000, 13000, 20000, 5000, 7000]\n",
        "}\n",
        "\n",
        "df_menu = pd.DataFrame(dict_Menu)\n",
        "\n",
        "for i in range(3):\n",
        "  totalCost = 0\n",
        "\n",
        "  name = input(\"Nama Customer: \")\n",
        "  Jumlah = int(input(\"Jumlah Pesanan: \"))\n",
        "  while Jumlah != 0:\n",
        "    nMakan = input(\"Masukkan Nama Makanan/Minuman: \")\n",
        "    qMakan = int(input(\"Jumlah: \"))\n",
        "\n",
        "    harga = df_menu[df_menu['Menu'] == nMakan]['Harga'].values[0]\n",
        "\n",
        "    if df_menu[df_menu['Menu'] == nMakan]['Tipe'].values == 'Makanan':\n",
        "      tax = 1.05\n",
        "    else:\n",
        "      tax = 1.03\n",
        "\n",
        "    totalCost = totalCost + ((harga * qMakan) * tax)\n",
        "    Jumlah = Jumlah - qMakan\n",
        "\n",
        "  print(f'Buset bang {name} lu abis {totalCost * 1.15:.2f}\\n')"
      ]
    }
  ]
}