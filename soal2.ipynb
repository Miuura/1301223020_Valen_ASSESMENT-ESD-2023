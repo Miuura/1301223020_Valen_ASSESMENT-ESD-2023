{
  "nbformat": 4,
  "nbformat_minor": 0,
  "metadata": {
    "colab": {
      "provenance": []
    },
    "kernelspec": {
      "name": "python3",
      "display_name": "Python 3"
    },
    "language_info": {
      "name": "python"
    }
  },
  "cells": [
    {
      "cell_type": "code",
      "execution_count": 17,
      "metadata": {
        "colab": {
          "base_uri": "https://localhost:8080/"
        },
        "id": "8_Y6Epv3n65y",
        "outputId": "b4944a1f-c1d7-46b9-f778-813f86d6b58f"
      },
      "outputs": [
        {
          "output_type": "stream",
          "name": "stdout",
          "text": [
            "Masukkan string: Ibu ratna antar ubi\n",
            "eureeka!\n"
          ]
        }
      ],
      "source": [
        "string = input(\"Masukkan string: \")\n",
        "string = string.lower()\n",
        "string = string.replace(\" \", \"\")\n",
        "\n",
        "if string == string[::-1]:\n",
        "  print(\"eureeka!\")\n",
        "else:\n",
        "  print(\"suka blyat\")"
      ]
    }
  ]
}