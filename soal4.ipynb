{
  "nbformat": 4,
  "nbformat_minor": 0,
  "metadata": {
    "colab": {
      "provenance": []
    },
    "kernelspec": {
      "name": "python3",
      "display_name": "Python 3"
    },
    "language_info": {
      "name": "python"
    }
  },
  "cells": [
    {
      "cell_type": "code",
      "execution_count": 18,
      "metadata": {
        "colab": {
          "base_uri": "https://localhost:8080/"
        },
        "id": "8_Y6Epv3n65y",
        "outputId": "22ce1819-d422-4d4a-8132-1706568f9f21"
      },
      "outputs": [
        {
          "output_type": "stream",
          "name": "stdout",
          "text": [
            "Data angka: 20\n",
            "Data angka: 1\n",
            "Data angka: 3\n",
            "Data angka: 2\n",
            "Data angka: 4\n",
            "Data angka: 6\n",
            "Data angka: 8\n",
            "Data angka: 5\n",
            "Data angka: 7\n",
            "Data angka: 9\n",
            "Data angka: 11\n",
            "Data angka: 13\n",
            "Data angka: 15\n",
            "Data angka: 10\n",
            "Data angka: 12\n",
            "Data angka: 14\n",
            "Data angka: 16\n",
            "Data angka: 18\n",
            "Data angka: 20\n",
            "Data angka: 17\n",
            "Data angka: 19\n",
            "True\n"
          ]
        }
      ],
      "source": [
        "listint = []\n",
        "for i in range(21):\n",
        "  x = int(input(\"Data angka: \"))\n",
        "  listint.append(x)\n",
        "\n",
        "def checkDup(data):\n",
        "  set_data = set()\n",
        "  for i in data:\n",
        "    if i in set_data:\n",
        "      return True\n",
        "    set_data.add(i)\n",
        "  return False\n",
        "\n",
        "print(checkDup(listint))"
      ]
    }
  ]
}