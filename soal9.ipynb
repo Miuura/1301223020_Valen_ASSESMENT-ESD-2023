{
  "nbformat": 4,
  "nbformat_minor": 0,
  "metadata": {
    "colab": {
      "provenance": []
    },
    "kernelspec": {
      "name": "python3",
      "display_name": "Python 3"
    },
    "language_info": {
      "name": "python"
    }
  },
  "cells": [
    {
      "cell_type": "code",
      "execution_count": 1,
      "metadata": {
        "colab": {
          "base_uri": "https://localhost:8080/"
        },
        "id": "8_Y6Epv3n65y",
        "outputId": "813f756d-717c-4472-80e5-b7431ea13ef9"
      },
      "outputs": [
        {
          "output_type": "stream",
          "name": "stdout",
          "text": [
            "Masukkan Nama Anak: Bagas\n",
            "Masukkan Nama Anak: Dimas\n",
            "Masukkan Nama Anak: Fajar\n",
            "Masukkan Nama Anak: Bagas\n",
            "Masukkan Nama Anak: Indra\n",
            "Masukkan Nama Anak: Gilang\n",
            "Masukkan Nama Anak: Gilang\n",
            "Masukkan Nama Anak: Bagas\n",
            "Masukkan Nama Anak: Fajar\n",
            "Masukkan Nama Anak: Fajar\n",
            "Selamat Malam Pak/Bu Berikut List Anak Nakalnya: \n",
            "['Bagas', 'Fajar']\n"
          ]
        }
      ],
      "source": [
        "dict_anak = {}\n",
        "list_anak = []\n",
        "\n",
        "for i in range(10):\n",
        "  Nama_anak = input(\"Masukkan Nama Anak: \")\n",
        "  list_anak.append(Nama_anak)\n",
        "\n",
        "for nama in list_anak:\n",
        "  if nama in dict_anak:\n",
        "    dict_anak[nama] += 1\n",
        "  else:\n",
        "    dict_anak[nama] = 1\n",
        "\n",
        "max = max(dict_anak.values())\n",
        "\n",
        "if (max == 1):\n",
        "  print('Semuanya Anak Baik')\n",
        "else:\n",
        "  listAnakNakal = []\n",
        "  for nama, count in dict_anak.items():\n",
        "    if count == max:\n",
        "      listAnakNakal.append(nama)\n",
        "  print('Selamat Malam Pak/Bu Berikut List Anak Nakalnya: ')\n",
        "  print(listAnakNakal)"
      ]
    }
  ]
}