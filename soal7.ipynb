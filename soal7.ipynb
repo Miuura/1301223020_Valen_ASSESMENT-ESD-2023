{
  "nbformat": 4,
  "nbformat_minor": 0,
  "metadata": {
    "colab": {
      "provenance": []
    },
    "kernelspec": {
      "name": "python3",
      "display_name": "Python 3"
    },
    "language_info": {
      "name": "python"
    }
  },
  "cells": [
    {
      "cell_type": "code",
      "execution_count": 26,
      "metadata": {
        "colab": {
          "base_uri": "https://localhost:8080/"
        },
        "id": "8_Y6Epv3n65y",
        "outputId": "a7847d73-c201-4097-e020-6915f1ca7174"
      },
      "outputs": [
        {
          "output_type": "stream",
          "name": "stdout",
          "text": [
            "Masukkan teks : gwt, gjxtp qz rfz rfpfs in bfwlty lfp?\n",
            "Isi chat: bro, besok lu mau makan di wargot gak?\n"
          ]
        }
      ],
      "source": [
        "def encrypt_decrypt(input_str):\n",
        "    result = \"\"\n",
        "    shift = -5\n",
        "    for char in input_str:\n",
        "        if char.isalpha():\n",
        "            base = ord('A') if char.isupper() else ord('a')\n",
        "            result += chr((ord(char) - base + 26 + shift) % 26 + base)\n",
        "        else:\n",
        "            result += char\n",
        "    return result\n",
        "\n",
        "input_text = input(\"Masukkan teks : \")\n",
        "encrypted_text = encrypt_decrypt(input_text)\n",
        "print(f\"Isi chat: {encrypted_text}\")"
      ]
    }
  ]
}