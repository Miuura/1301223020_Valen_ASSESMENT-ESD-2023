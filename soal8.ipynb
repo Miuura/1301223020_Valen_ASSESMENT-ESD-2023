{
  "nbformat": 4,
  "nbformat_minor": 0,
  "metadata": {
    "colab": {
      "provenance": []
    },
    "kernelspec": {
      "name": "python3",
      "display_name": "Python 3"
    },
    "language_info": {
      "name": "python"
    }
  },
  "cells": [
    {
      "cell_type": "code",
      "execution_count": 45,
      "metadata": {
        "colab": {
          "base_uri": "https://localhost:8080/"
        },
        "id": "8_Y6Epv3n65y",
        "outputId": "8c1c08d6-490f-4c07-cdc5-a4334fe362f5"
      },
      "outputs": [
        {
          "output_type": "stream",
          "name": "stdout",
          "text": [
            "Data Produk:\n",
            "      Produk    Kategori  Harga\n",
            "0         TV  Elektronik   1000\n",
            "1  Headphone  Elektronik    200\n",
            "2       Baju     Fashion     50\n",
            "3      Gitar       Musik    300\n",
            "4     Sepatu    Olahraga     80\n",
            "5     Kamera  Elektronik    600\n",
            "\n",
            "Data Pelanggan:\n",
            "      Nama                 Minat            Beli\n",
            "0     Rina     Elektronik, Musik   TV, Headphone\n",
            "1     Budi        Fashion, Musik     Baju, Gitar\n",
            "2  Hartono  Olahraga, Elektronik  Sepatu, Kamera\n",
            "\n",
            "Rekomendasi Barang untuk Setiap Pelanggan:\n",
            "Rina: ['TV', 'Headphone', 'Kamera', 'Gitar']\n",
            "Budi: ['Baju', 'Gitar']\n",
            "Hartono: ['Sepatu', 'TV', 'Headphone', 'Kamera']\n"
          ]
        }
      ],
      "source": [
        "import pandas as pd\n",
        "dict_product = {\n",
        "    'Produk' : ['TV', 'Headphone', 'Baju', 'Gitar', 'Sepatu', 'Kamera'],\n",
        "    'Kategori' : ['Elektronik', 'Elektronik', 'Fashion', 'Musik', 'Olahraga', 'Elektronik'],\n",
        "    'Harga' : [1000, 200, 50, 300, 80, 600]\n",
        "}\n",
        "\n",
        "dict_Cust  = {\n",
        "    'Nama' : ['Rina', 'Budi', 'Hartono'],\n",
        "    'Minat' : ['Elektronik, Musik', 'Fashion, Musik', 'Olahraga, Elektronik'],\n",
        "    'Beli' : ['TV, Headphone', 'Baju, Gitar', 'Sepatu, Kamera']\n",
        "}\n",
        "\n",
        "df_product = pd.DataFrame(dict_product)\n",
        "df_cust = pd.DataFrame(dict_Cust)\n",
        "\n",
        "print(\"Data Produk:\")\n",
        "print(df_product)\n",
        "print(\"\\nData Pelanggan:\")\n",
        "print(df_cust)\n",
        "print(\"\\nRekomendasi Barang untuk Setiap Pelanggan:\")\n",
        "\n",
        "for _, row in df_cust.iterrows():\n",
        "    nama_pelanggan = row['Nama']\n",
        "    minat_pelanggan = row['Minat'].split(', ')\n",
        "    rekomendasi_barang = []\n",
        "\n",
        "    for minat in minat_pelanggan:\n",
        "        rekomendasi_barang.extend(df_product[df_product['Kategori'] == minat]['Produk'].tolist())\n",
        "\n",
        "    print(f\"{nama_pelanggan}: {rekomendasi_barang}\")\n"
      ]
    },
    {
      "cell_type": "code",
      "source": [],
      "metadata": {
        "id": "V9kWgfvZxbOQ"
      },
      "execution_count": null,
      "outputs": []
    }
  ]
}